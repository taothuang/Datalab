{
 "cells": [
  {
   "cell_type": "code",
   "execution_count": null,
   "metadata": {},
   "outputs": [],
   "source": [
    "from pyhive import hive\n",
    "cursor = hive.connect(host='azalvedlmstv01.p01eaedl.manulife.com',\n",
    "                      port=10000,\n",
    "                      database='default',\n",
    "                      auth='KERBEROS',\n",
    "                      kerberos_service_name='hive').cursor()\n",
    "cursor.execute('show tables in aa_lab_private_taohuang_db')\n",
    "for i in cursor.fetchall():\n",
    "    print('drop table aa_lab_private_taohuang_db.{tablename}'.format(tablename=i[0]))"
   ]
  },
  {
   "cell_type": "code",
   "execution_count": 2,
   "metadata": {},
   "outputs": [
    {
     "name": "stdout",
     "output_type": "stream",
     "text": [
      "Sat Mar  4 04:03:17 2073::dwpwn@rnieblna.gov::3255796997-5-8\n",
      "Sun Nov  5 11:22:21 2084::ukuebc@qgomgjulcu.com::3624232941-6-10\n",
      "Fri Feb 11 21:02:19 2022::rfuc@lpealsgociml.com::1644584539-4-12\n",
      "Mon Jun  9 07:19:48 2081::hxsek@fndffv.edu::3516650388-5-6\n",
      "Sun Feb 12 12:05:02 2034::igiirto@fldgwpksxkgm.com::2023329902-7-12\n",
      "Fri May  3 18:08:48 1974::ylkx@yjtexafnpe.net::136804128-4-10\n",
      "Thu Oct  7 01:51:01 2060::inczefi@zyowfmdlwe.gov::2864310661-7-10\n",
      "Tue Dec  7 10:51:36 2088::beuuejo@wrsqfzqllwj.gov::3753226296-7-11\n"
     ]
    }
   ],
   "source": [
    "from random import randrange, choice\n",
    "from string import ascii_lowercase as lc\n",
    "from sys import maxsize\n",
    "from time import ctime\n",
    "\n",
    "tlds = ('com', 'edu', 'net', 'org', 'gov')\n",
    "\n",
    "for i in range(randrange(5, 11)):\n",
    "        dtint = randrange(2**32 - 1)   # pick date\n",
    "        dtstr = ctime(dtint)         # date string\n",
    "        llen = randrange(4, 8)       # login is shorter\n",
    "        login = ''.join(choice(lc) for j in range(llen))\n",
    "        dlen = randrange(llen, 13)   # domain is longer\n",
    "        dom = ''.join(choice(lc) for j in range(dlen))\n",
    "        print('%s::%s@%s.%s::%d-%d-%d' % (dtstr, login, dom, choice(tlds), dtint, llen, dlen))"
   ]
  },
  {
   "cell_type": "code",
   "execution_count": 110,
   "metadata": {},
   "outputs": [
    {
     "data": {
      "text/plain": [
       "('Sat',)"
      ]
     },
     "execution_count": 110,
     "metadata": {},
     "output_type": "execute_result"
    }
   ],
   "source": [
    "data = 'Sat Jul 21 11:05:24 1990::xtqi@akjpzce.gov::648529524-4-7'\n",
    "patt = '^(Mon|Tue|Wed|Thu|Fri|Sat|Sun)'\n",
    "re.match(patt, data).groups()"
   ]
  }
 ],
 "metadata": {
  "kernelspec": {
   "display_name": "Python 3",
   "language": "python",
   "name": "python3"
  },
  "language_info": {
   "codemirror_mode": {
    "name": "ipython",
    "version": 3
   },
   "file_extension": ".py",
   "mimetype": "text/x-python",
   "name": "python",
   "nbconvert_exporter": "python",
   "pygments_lexer": "ipython3",
   "version": "3.6.7"
  }
 },
 "nbformat": 4,
 "nbformat_minor": 2
}
